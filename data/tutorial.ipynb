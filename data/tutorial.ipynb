{
 "cells": [
  {
   "cell_type": "code",
   "execution_count": 1,
   "id": "6f6cdcd5",
   "metadata": {},
   "outputs": [],
   "source": [
    "import pandas as pd"
   ]
  },
  {
   "cell_type": "markdown",
   "id": "1ae9d5e8",
   "metadata": {},
   "source": [
    "# 1. Reading Training Data"
   ]
  },
  {
   "cell_type": "markdown",
   "id": "23b26a6f",
   "metadata": {},
   "source": [
    "## 1.1 Users"
   ]
  },
  {
   "cell_type": "code",
   "execution_count": 2,
   "id": "042ac811",
   "metadata": {},
   "outputs": [],
   "source": [
    "train_users = pd.read_csv(\"train_users.csv\")"
   ]
  },
  {
   "cell_type": "code",
   "execution_count": 3,
   "id": "7b91609f",
   "metadata": {},
   "outputs": [
    {
     "data": {
      "text/html": [
       "<div>\n",
       "<style scoped>\n",
       "    .dataframe tbody tr th:only-of-type {\n",
       "        vertical-align: middle;\n",
       "    }\n",
       "\n",
       "    .dataframe tbody tr th {\n",
       "        vertical-align: top;\n",
       "    }\n",
       "\n",
       "    .dataframe thead th {\n",
       "        text-align: right;\n",
       "    }\n",
       "</style>\n",
       "<table border=\"1\" class=\"dataframe\">\n",
       "  <thead>\n",
       "    <tr style=\"text-align: right;\">\n",
       "      <th></th>\n",
       "      <th>user_id</th>\n",
       "    </tr>\n",
       "  </thead>\n",
       "  <tbody>\n",
       "    <tr>\n",
       "      <th>0</th>\n",
       "      <td>1</td>\n",
       "    </tr>\n",
       "    <tr>\n",
       "      <th>1</th>\n",
       "      <td>2</td>\n",
       "    </tr>\n",
       "  </tbody>\n",
       "</table>\n",
       "</div>"
      ],
      "text/plain": [
       "   user_id\n",
       "0        1\n",
       "1        2"
      ]
     },
     "execution_count": 3,
     "metadata": {},
     "output_type": "execute_result"
    }
   ],
   "source": [
    "train_users.head(2)"
   ]
  },
  {
   "cell_type": "markdown",
   "id": "ecc09490",
   "metadata": {},
   "source": [
    "## 1.2 Items"
   ]
  },
  {
   "cell_type": "code",
   "execution_count": 4,
   "id": "f01dd651",
   "metadata": {},
   "outputs": [],
   "source": [
    "train_items = pd.read_csv(\"train_items.csv\")"
   ]
  },
  {
   "cell_type": "code",
   "execution_count": 5,
   "id": "835639fb",
   "metadata": {},
   "outputs": [
    {
     "data": {
      "text/html": [
       "<div>\n",
       "<style scoped>\n",
       "    .dataframe tbody tr th:only-of-type {\n",
       "        vertical-align: middle;\n",
       "    }\n",
       "\n",
       "    .dataframe tbody tr th {\n",
       "        vertical-align: top;\n",
       "    }\n",
       "\n",
       "    .dataframe thead th {\n",
       "        text-align: right;\n",
       "    }\n",
       "</style>\n",
       "<table border=\"1\" class=\"dataframe\">\n",
       "  <thead>\n",
       "    <tr style=\"text-align: right;\">\n",
       "      <th></th>\n",
       "      <th>item_ID</th>\n",
       "      <th>item_name</th>\n",
       "      <th>brand</th>\n",
       "      <th>channel</th>\n",
       "      <th>unit_price</th>\n",
       "      <th>category</th>\n",
       "      <th>size</th>\n",
       "      <th>color</th>\n",
       "      <th>discount</th>\n",
       "      <th>gender</th>\n",
       "      <th>...</th>\n",
       "      <th>brand_location_map</th>\n",
       "      <th>materials_map</th>\n",
       "      <th>sex</th>\n",
       "      <th>country_size</th>\n",
       "      <th>country_in_stock</th>\n",
       "      <th>tag</th>\n",
       "      <th>price_range</th>\n",
       "      <th>country</th>\n",
       "      <th>style_50</th>\n",
       "      <th>color_50</th>\n",
       "    </tr>\n",
       "  </thead>\n",
       "  <tbody>\n",
       "    <tr>\n",
       "      <th>0</th>\n",
       "      <td>1001920</td>\n",
       "      <td>Fendi女子皮制鞋12184-X3474</td>\n",
       "      <td>FENDI</td>\n",
       "      <td>17</td>\n",
       "      <td>299.0</td>\n",
       "      <td>单鞋</td>\n",
       "      <td>39</td>\n",
       "      <td>NaN</td>\n",
       "      <td>0.059443</td>\n",
       "      <td>女</td>\n",
       "      <td>...</td>\n",
       "      <td>NaN</td>\n",
       "      <td>NaN</td>\n",
       "      <td>NaN</td>\n",
       "      <td>意大利 (IT)</td>\n",
       "      <td>NaN</td>\n",
       "      <td>奢华&amp;经典&amp;现代</td>\n",
       "      <td>5.0</td>\n",
       "      <td>意大利 (IT)</td>\n",
       "      <td>奢华</td>\n",
       "      <td>NaN</td>\n",
       "    </tr>\n",
       "    <tr>\n",
       "      <th>1</th>\n",
       "      <td>1003191</td>\n",
       "      <td>【自营】BCBG-MAXAZRIA女士皮制手提书包 【特卖货品，缺货退款，延迟发货见谅】</td>\n",
       "      <td>BCBG</td>\n",
       "      <td>15</td>\n",
       "      <td>89.0</td>\n",
       "      <td>手提包</td>\n",
       "      <td>30*26*22</td>\n",
       "      <td>西瓜红色</td>\n",
       "      <td>0.032014</td>\n",
       "      <td>女</td>\n",
       "      <td>...</td>\n",
       "      <td>NaN</td>\n",
       "      <td>NaN</td>\n",
       "      <td>NaN</td>\n",
       "      <td>NaN</td>\n",
       "      <td>NaN</td>\n",
       "      <td>高端&amp;时尚&amp;女性化</td>\n",
       "      <td>NaN</td>\n",
       "      <td>NaN</td>\n",
       "      <td>优雅</td>\n",
       "      <td>红色系列</td>\n",
       "    </tr>\n",
       "  </tbody>\n",
       "</table>\n",
       "<p>2 rows × 24 columns</p>\n",
       "</div>"
      ],
      "text/plain": [
       "   item_ID                                     item_name  brand  channel  \\\n",
       "0  1001920                         Fendi女子皮制鞋12184-X3474  FENDI       17   \n",
       "1  1003191  【自营】BCBG-MAXAZRIA女士皮制手提书包 【特卖货品，缺货退款，延迟发货见谅】   BCBG       15   \n",
       "\n",
       "   unit_price category      size color  discount gender  ...  \\\n",
       "0       299.0       单鞋        39   NaN  0.059443      女  ...   \n",
       "1        89.0      手提包  30*26*22  西瓜红色  0.032014      女  ...   \n",
       "\n",
       "  brand_location_map  materials_map  sex country_size country_in_stock  \\\n",
       "0                NaN            NaN  NaN     意大利 (IT)              NaN   \n",
       "1                NaN            NaN  NaN          NaN              NaN   \n",
       "\n",
       "         tag price_range   country style_50 color_50  \n",
       "0   奢华&经典&现代         5.0  意大利 (IT)       奢华      NaN  \n",
       "1  高端&时尚&女性化         NaN       NaN       优雅     红色系列  \n",
       "\n",
       "[2 rows x 24 columns]"
      ]
     },
     "execution_count": 5,
     "metadata": {},
     "output_type": "execute_result"
    }
   ],
   "source": [
    "train_items.head(2)"
   ]
  },
  {
   "cell_type": "markdown",
   "id": "2332b7ec",
   "metadata": {},
   "source": [
    "## 1.3 Interactions"
   ]
  },
  {
   "cell_type": "code",
   "execution_count": 6,
   "id": "b091f410",
   "metadata": {},
   "outputs": [],
   "source": [
    "train_interactions = pd.read_csv(\"train_interactions.csv\")"
   ]
  },
  {
   "cell_type": "code",
   "execution_count": 7,
   "id": "c5f1fe9a",
   "metadata": {},
   "outputs": [
    {
     "data": {
      "text/html": [
       "<div>\n",
       "<style scoped>\n",
       "    .dataframe tbody tr th:only-of-type {\n",
       "        vertical-align: middle;\n",
       "    }\n",
       "\n",
       "    .dataframe tbody tr th {\n",
       "        vertical-align: top;\n",
       "    }\n",
       "\n",
       "    .dataframe thead th {\n",
       "        text-align: right;\n",
       "    }\n",
       "</style>\n",
       "<table border=\"1\" class=\"dataframe\">\n",
       "  <thead>\n",
       "    <tr style=\"text-align: right;\">\n",
       "      <th></th>\n",
       "      <th>user_id</th>\n",
       "      <th>item_ID</th>\n",
       "      <th>order_time</th>\n",
       "    </tr>\n",
       "  </thead>\n",
       "  <tbody>\n",
       "    <tr>\n",
       "      <th>0</th>\n",
       "      <td>209227</td>\n",
       "      <td>1595587</td>\n",
       "      <td>2024-03-14</td>\n",
       "    </tr>\n",
       "    <tr>\n",
       "      <th>1</th>\n",
       "      <td>243637</td>\n",
       "      <td>1639001</td>\n",
       "      <td>2024-03-14</td>\n",
       "    </tr>\n",
       "    <tr>\n",
       "      <th>2</th>\n",
       "      <td>265503</td>\n",
       "      <td>1675222</td>\n",
       "      <td>2024-03-14</td>\n",
       "    </tr>\n",
       "    <tr>\n",
       "      <th>3</th>\n",
       "      <td>183614</td>\n",
       "      <td>1662640</td>\n",
       "      <td>2024-03-14</td>\n",
       "    </tr>\n",
       "    <tr>\n",
       "      <th>4</th>\n",
       "      <td>188753</td>\n",
       "      <td>1662540</td>\n",
       "      <td>2024-03-14</td>\n",
       "    </tr>\n",
       "  </tbody>\n",
       "</table>\n",
       "</div>"
      ],
      "text/plain": [
       "   user_id  item_ID  order_time\n",
       "0   209227  1595587  2024-03-14\n",
       "1   243637  1639001  2024-03-14\n",
       "2   265503  1675222  2024-03-14\n",
       "3   183614  1662640  2024-03-14\n",
       "4   188753  1662540  2024-03-14"
      ]
     },
     "execution_count": 7,
     "metadata": {},
     "output_type": "execute_result"
    }
   ],
   "source": [
    "train_interactions.head()"
   ]
  },
  {
   "cell_type": "markdown",
   "id": "8a32ce9c",
   "metadata": {},
   "source": [
    "# 2. Featurization"
   ]
  },
  {
   "cell_type": "markdown",
   "id": "808f99f0",
   "metadata": {},
   "source": [
    "## 2.1 Item Features"
   ]
  },
  {
   "cell_type": "markdown",
   "id": "529bf880-7f05-4c90-a315-fb6aa87e1697",
   "metadata": {},
   "source": [
    "In this tutorial, we only use unit_price and discount as features. You can try more."
   ]
  },
  {
   "cell_type": "code",
   "execution_count": 8,
   "id": "5db0bd10",
   "metadata": {},
   "outputs": [],
   "source": [
    "train_item_feas = train_items[[\"item_ID\", \"unit_price\", \"discount\"]]"
   ]
  },
  {
   "cell_type": "markdown",
   "id": "79fa4d1a-7450-4486-9791-9f0f31983908",
   "metadata": {},
   "source": [
    "Missing value imputation."
   ]
  },
  {
   "cell_type": "code",
   "execution_count": 9,
   "id": "161b78f4",
   "metadata": {},
   "outputs": [],
   "source": [
    "train_item_feas = train_item_feas.fillna(train_item_feas.mean())"
   ]
  },
  {
   "cell_type": "code",
   "execution_count": 10,
   "id": "afbac35c",
   "metadata": {},
   "outputs": [
    {
     "data": {
      "text/html": [
       "<div>\n",
       "<style scoped>\n",
       "    .dataframe tbody tr th:only-of-type {\n",
       "        vertical-align: middle;\n",
       "    }\n",
       "\n",
       "    .dataframe tbody tr th {\n",
       "        vertical-align: top;\n",
       "    }\n",
       "\n",
       "    .dataframe thead th {\n",
       "        text-align: right;\n",
       "    }\n",
       "</style>\n",
       "<table border=\"1\" class=\"dataframe\">\n",
       "  <thead>\n",
       "    <tr style=\"text-align: right;\">\n",
       "      <th></th>\n",
       "      <th>item_ID</th>\n",
       "      <th>unit_price</th>\n",
       "      <th>discount</th>\n",
       "    </tr>\n",
       "  </thead>\n",
       "  <tbody>\n",
       "    <tr>\n",
       "      <th>0</th>\n",
       "      <td>1001920</td>\n",
       "      <td>299.0</td>\n",
       "      <td>0.059443</td>\n",
       "    </tr>\n",
       "    <tr>\n",
       "      <th>1</th>\n",
       "      <td>1003191</td>\n",
       "      <td>89.0</td>\n",
       "      <td>0.032014</td>\n",
       "    </tr>\n",
       "  </tbody>\n",
       "</table>\n",
       "</div>"
      ],
      "text/plain": [
       "   item_ID  unit_price  discount\n",
       "0  1001920       299.0  0.059443\n",
       "1  1003191        89.0  0.032014"
      ]
     },
     "execution_count": 10,
     "metadata": {},
     "output_type": "execute_result"
    }
   ],
   "source": [
    "train_item_feas.head(2)"
   ]
  },
  {
   "cell_type": "markdown",
   "id": "4a4f5da1",
   "metadata": {},
   "source": [
    "## 2.2 User Features"
   ]
  },
  {
   "cell_type": "markdown",
   "id": "19885b23-82d2-477f-9ec8-a54e10fc8a1d",
   "metadata": {},
   "source": [
    "An user can be represented with the averaged price and discount of the items he/she purchased."
   ]
  },
  {
   "cell_type": "code",
   "execution_count": 11,
   "id": "d31c3966",
   "metadata": {},
   "outputs": [],
   "source": [
    "train_user_feas = train_interactions.drop(\"order_time\", axis=1)"
   ]
  },
  {
   "cell_type": "code",
   "execution_count": 12,
   "id": "ade65aac",
   "metadata": {},
   "outputs": [
    {
     "data": {
      "text/html": [
       "<div>\n",
       "<style scoped>\n",
       "    .dataframe tbody tr th:only-of-type {\n",
       "        vertical-align: middle;\n",
       "    }\n",
       "\n",
       "    .dataframe tbody tr th {\n",
       "        vertical-align: top;\n",
       "    }\n",
       "\n",
       "    .dataframe thead th {\n",
       "        text-align: right;\n",
       "    }\n",
       "</style>\n",
       "<table border=\"1\" class=\"dataframe\">\n",
       "  <thead>\n",
       "    <tr style=\"text-align: right;\">\n",
       "      <th></th>\n",
       "      <th>user_id</th>\n",
       "      <th>item_ID</th>\n",
       "    </tr>\n",
       "  </thead>\n",
       "  <tbody>\n",
       "    <tr>\n",
       "      <th>0</th>\n",
       "      <td>209227</td>\n",
       "      <td>1595587</td>\n",
       "    </tr>\n",
       "    <tr>\n",
       "      <th>1</th>\n",
       "      <td>243637</td>\n",
       "      <td>1639001</td>\n",
       "    </tr>\n",
       "  </tbody>\n",
       "</table>\n",
       "</div>"
      ],
      "text/plain": [
       "   user_id  item_ID\n",
       "0   209227  1595587\n",
       "1   243637  1639001"
      ]
     },
     "execution_count": 12,
     "metadata": {},
     "output_type": "execute_result"
    }
   ],
   "source": [
    "train_user_feas.head(2)"
   ]
  },
  {
   "cell_type": "code",
   "execution_count": 13,
   "id": "0fcaf752",
   "metadata": {},
   "outputs": [],
   "source": [
    "train_user_feas = train_user_feas.merge(train_item_feas, on=\"item_ID\")"
   ]
  },
  {
   "cell_type": "code",
   "execution_count": 14,
   "id": "d512903c",
   "metadata": {},
   "outputs": [
    {
     "data": {
      "text/html": [
       "<div>\n",
       "<style scoped>\n",
       "    .dataframe tbody tr th:only-of-type {\n",
       "        vertical-align: middle;\n",
       "    }\n",
       "\n",
       "    .dataframe tbody tr th {\n",
       "        vertical-align: top;\n",
       "    }\n",
       "\n",
       "    .dataframe thead th {\n",
       "        text-align: right;\n",
       "    }\n",
       "</style>\n",
       "<table border=\"1\" class=\"dataframe\">\n",
       "  <thead>\n",
       "    <tr style=\"text-align: right;\">\n",
       "      <th></th>\n",
       "      <th>user_id</th>\n",
       "      <th>item_ID</th>\n",
       "      <th>unit_price</th>\n",
       "      <th>discount</th>\n",
       "    </tr>\n",
       "  </thead>\n",
       "  <tbody>\n",
       "    <tr>\n",
       "      <th>0</th>\n",
       "      <td>209227</td>\n",
       "      <td>1595587</td>\n",
       "      <td>2880.0</td>\n",
       "      <td>0.600000</td>\n",
       "    </tr>\n",
       "    <tr>\n",
       "      <th>1</th>\n",
       "      <td>243637</td>\n",
       "      <td>1639001</td>\n",
       "      <td>519.0</td>\n",
       "      <td>0.524242</td>\n",
       "    </tr>\n",
       "  </tbody>\n",
       "</table>\n",
       "</div>"
      ],
      "text/plain": [
       "   user_id  item_ID  unit_price  discount\n",
       "0   209227  1595587      2880.0  0.600000\n",
       "1   243637  1639001       519.0  0.524242"
      ]
     },
     "execution_count": 14,
     "metadata": {},
     "output_type": "execute_result"
    }
   ],
   "source": [
    "train_user_feas.head(2)"
   ]
  },
  {
   "cell_type": "code",
   "execution_count": 15,
   "id": "73fb1142",
   "metadata": {},
   "outputs": [],
   "source": [
    "train_user_feas = train_user_feas.drop(\"item_ID\", axis=1)"
   ]
  },
  {
   "cell_type": "code",
   "execution_count": 16,
   "id": "5d9d14e7",
   "metadata": {},
   "outputs": [
    {
     "data": {
      "text/html": [
       "<div>\n",
       "<style scoped>\n",
       "    .dataframe tbody tr th:only-of-type {\n",
       "        vertical-align: middle;\n",
       "    }\n",
       "\n",
       "    .dataframe tbody tr th {\n",
       "        vertical-align: top;\n",
       "    }\n",
       "\n",
       "    .dataframe thead th {\n",
       "        text-align: right;\n",
       "    }\n",
       "</style>\n",
       "<table border=\"1\" class=\"dataframe\">\n",
       "  <thead>\n",
       "    <tr style=\"text-align: right;\">\n",
       "      <th></th>\n",
       "      <th>user_id</th>\n",
       "      <th>unit_price</th>\n",
       "      <th>discount</th>\n",
       "    </tr>\n",
       "  </thead>\n",
       "  <tbody>\n",
       "    <tr>\n",
       "      <th>0</th>\n",
       "      <td>209227</td>\n",
       "      <td>2880.0</td>\n",
       "      <td>0.600000</td>\n",
       "    </tr>\n",
       "    <tr>\n",
       "      <th>1</th>\n",
       "      <td>243637</td>\n",
       "      <td>519.0</td>\n",
       "      <td>0.524242</td>\n",
       "    </tr>\n",
       "  </tbody>\n",
       "</table>\n",
       "</div>"
      ],
      "text/plain": [
       "   user_id  unit_price  discount\n",
       "0   209227      2880.0  0.600000\n",
       "1   243637       519.0  0.524242"
      ]
     },
     "execution_count": 16,
     "metadata": {},
     "output_type": "execute_result"
    }
   ],
   "source": [
    "train_user_feas.head(2)"
   ]
  },
  {
   "cell_type": "code",
   "execution_count": 17,
   "id": "8877cc00",
   "metadata": {},
   "outputs": [],
   "source": [
    "train_user_feas = train_user_feas.groupby(\"user_id\", as_index=False).mean()"
   ]
  },
  {
   "cell_type": "code",
   "execution_count": 18,
   "id": "8bcde7be",
   "metadata": {},
   "outputs": [
    {
     "data": {
      "text/html": [
       "<div>\n",
       "<style scoped>\n",
       "    .dataframe tbody tr th:only-of-type {\n",
       "        vertical-align: middle;\n",
       "    }\n",
       "\n",
       "    .dataframe tbody tr th {\n",
       "        vertical-align: top;\n",
       "    }\n",
       "\n",
       "    .dataframe thead th {\n",
       "        text-align: right;\n",
       "    }\n",
       "</style>\n",
       "<table border=\"1\" class=\"dataframe\">\n",
       "  <thead>\n",
       "    <tr style=\"text-align: right;\">\n",
       "      <th></th>\n",
       "      <th>user_id</th>\n",
       "      <th>unit_price</th>\n",
       "      <th>discount</th>\n",
       "    </tr>\n",
       "  </thead>\n",
       "  <tbody>\n",
       "    <tr>\n",
       "      <th>0</th>\n",
       "      <td>1</td>\n",
       "      <td>1211.494000</td>\n",
       "      <td>0.643710</td>\n",
       "    </tr>\n",
       "    <tr>\n",
       "      <th>1</th>\n",
       "      <td>2</td>\n",
       "      <td>895.027108</td>\n",
       "      <td>0.310057</td>\n",
       "    </tr>\n",
       "  </tbody>\n",
       "</table>\n",
       "</div>"
      ],
      "text/plain": [
       "   user_id   unit_price  discount\n",
       "0        1  1211.494000  0.643710\n",
       "1        2   895.027108  0.310057"
      ]
     },
     "execution_count": 18,
     "metadata": {},
     "output_type": "execute_result"
    }
   ],
   "source": [
    "train_user_feas.head(2)"
   ]
  },
  {
   "cell_type": "markdown",
   "id": "caef8923",
   "metadata": {},
   "source": [
    "# 3. Labeling"
   ]
  },
  {
   "cell_type": "markdown",
   "id": "bc3c1991",
   "metadata": {},
   "source": [
    "## 3.1 Positive Labels"
   ]
  },
  {
   "cell_type": "markdown",
   "id": "294d84a0-9ade-4608-b583-64b60b27b192",
   "metadata": {},
   "source": [
    "All the happened purchases are positive."
   ]
  },
  {
   "cell_type": "code",
   "execution_count": 19,
   "id": "f7d940d2",
   "metadata": {},
   "outputs": [],
   "source": [
    "pos_samples = train_interactions.drop(\"order_time\", axis=1)"
   ]
  },
  {
   "cell_type": "code",
   "execution_count": 20,
   "id": "4299ba80",
   "metadata": {},
   "outputs": [
    {
     "data": {
      "text/html": [
       "<div>\n",
       "<style scoped>\n",
       "    .dataframe tbody tr th:only-of-type {\n",
       "        vertical-align: middle;\n",
       "    }\n",
       "\n",
       "    .dataframe tbody tr th {\n",
       "        vertical-align: top;\n",
       "    }\n",
       "\n",
       "    .dataframe thead th {\n",
       "        text-align: right;\n",
       "    }\n",
       "</style>\n",
       "<table border=\"1\" class=\"dataframe\">\n",
       "  <thead>\n",
       "    <tr style=\"text-align: right;\">\n",
       "      <th></th>\n",
       "      <th>user_id</th>\n",
       "      <th>item_ID</th>\n",
       "    </tr>\n",
       "  </thead>\n",
       "  <tbody>\n",
       "    <tr>\n",
       "      <th>0</th>\n",
       "      <td>209227</td>\n",
       "      <td>1595587</td>\n",
       "    </tr>\n",
       "    <tr>\n",
       "      <th>1</th>\n",
       "      <td>243637</td>\n",
       "      <td>1639001</td>\n",
       "    </tr>\n",
       "  </tbody>\n",
       "</table>\n",
       "</div>"
      ],
      "text/plain": [
       "   user_id  item_ID\n",
       "0   209227  1595587\n",
       "1   243637  1639001"
      ]
     },
     "execution_count": 20,
     "metadata": {},
     "output_type": "execute_result"
    }
   ],
   "source": [
    "pos_samples.head(2)"
   ]
  },
  {
   "cell_type": "code",
   "execution_count": 21,
   "id": "a856059d",
   "metadata": {},
   "outputs": [],
   "source": [
    "pos_samples[\"label\"] = 1"
   ]
  },
  {
   "cell_type": "code",
   "execution_count": 22,
   "id": "05d5de26",
   "metadata": {},
   "outputs": [
    {
     "data": {
      "text/html": [
       "<div>\n",
       "<style scoped>\n",
       "    .dataframe tbody tr th:only-of-type {\n",
       "        vertical-align: middle;\n",
       "    }\n",
       "\n",
       "    .dataframe tbody tr th {\n",
       "        vertical-align: top;\n",
       "    }\n",
       "\n",
       "    .dataframe thead th {\n",
       "        text-align: right;\n",
       "    }\n",
       "</style>\n",
       "<table border=\"1\" class=\"dataframe\">\n",
       "  <thead>\n",
       "    <tr style=\"text-align: right;\">\n",
       "      <th></th>\n",
       "      <th>user_id</th>\n",
       "      <th>item_ID</th>\n",
       "      <th>label</th>\n",
       "    </tr>\n",
       "  </thead>\n",
       "  <tbody>\n",
       "    <tr>\n",
       "      <th>0</th>\n",
       "      <td>209227</td>\n",
       "      <td>1595587</td>\n",
       "      <td>1</td>\n",
       "    </tr>\n",
       "    <tr>\n",
       "      <th>1</th>\n",
       "      <td>243637</td>\n",
       "      <td>1639001</td>\n",
       "      <td>1</td>\n",
       "    </tr>\n",
       "  </tbody>\n",
       "</table>\n",
       "</div>"
      ],
      "text/plain": [
       "   user_id  item_ID  label\n",
       "0   209227  1595587      1\n",
       "1   243637  1639001      1"
      ]
     },
     "execution_count": 22,
     "metadata": {},
     "output_type": "execute_result"
    }
   ],
   "source": [
    "pos_samples.head(2)"
   ]
  },
  {
   "cell_type": "markdown",
   "id": "06604b03",
   "metadata": {},
   "source": [
    "## 3.2 Negative Sampling"
   ]
  },
  {
   "cell_type": "markdown",
   "id": "fe9de1f1-88e1-4395-82ea-69a9f210d616",
   "metadata": {},
   "source": [
    "We can randomly pair an user and an item and assume this purchase will not happen (negative data). Definitly some of these negatively labeled data would be the same as some positive data. We assume the amount would be limited and it would not hurt the result."
   ]
  },
  {
   "cell_type": "code",
   "execution_count": 23,
   "id": "81e715fb",
   "metadata": {},
   "outputs": [],
   "source": [
    "pos_num = len(pos_samples)"
   ]
  },
  {
   "cell_type": "code",
   "execution_count": 24,
   "id": "c9e8e0fa",
   "metadata": {},
   "outputs": [],
   "source": [
    "import random"
   ]
  },
  {
   "cell_type": "code",
   "execution_count": 25,
   "id": "02d41998",
   "metadata": {},
   "outputs": [],
   "source": [
    "neg_samples = {\"user_id\":[], \"item_ID\":[]}\n",
    "for i in range(pos_num):\n",
    "    uid = random.choice(train_users[\"user_id\"])\n",
    "    neg_samples[\"user_id\"].append(uid)\n",
    "    \n",
    "    iid = random.choice(train_items[\"item_ID\"])\n",
    "    neg_samples[\"item_ID\"].append(iid)"
   ]
  },
  {
   "cell_type": "code",
   "execution_count": 26,
   "id": "84a073fd",
   "metadata": {},
   "outputs": [],
   "source": [
    "neg_samples = pd.DataFrame(neg_samples)"
   ]
  },
  {
   "cell_type": "code",
   "execution_count": 27,
   "id": "9bee22d0",
   "metadata": {},
   "outputs": [],
   "source": [
    "neg_samples[\"label\"] = 0"
   ]
  },
  {
   "cell_type": "code",
   "execution_count": 28,
   "id": "5c1a607b",
   "metadata": {},
   "outputs": [
    {
     "data": {
      "text/html": [
       "<div>\n",
       "<style scoped>\n",
       "    .dataframe tbody tr th:only-of-type {\n",
       "        vertical-align: middle;\n",
       "    }\n",
       "\n",
       "    .dataframe tbody tr th {\n",
       "        vertical-align: top;\n",
       "    }\n",
       "\n",
       "    .dataframe thead th {\n",
       "        text-align: right;\n",
       "    }\n",
       "</style>\n",
       "<table border=\"1\" class=\"dataframe\">\n",
       "  <thead>\n",
       "    <tr style=\"text-align: right;\">\n",
       "      <th></th>\n",
       "      <th>user_id</th>\n",
       "      <th>item_ID</th>\n",
       "      <th>label</th>\n",
       "    </tr>\n",
       "  </thead>\n",
       "  <tbody>\n",
       "    <tr>\n",
       "      <th>0</th>\n",
       "      <td>215561</td>\n",
       "      <td>1453386</td>\n",
       "      <td>0</td>\n",
       "    </tr>\n",
       "    <tr>\n",
       "      <th>1</th>\n",
       "      <td>176886</td>\n",
       "      <td>1656047</td>\n",
       "      <td>0</td>\n",
       "    </tr>\n",
       "  </tbody>\n",
       "</table>\n",
       "</div>"
      ],
      "text/plain": [
       "   user_id  item_ID  label\n",
       "0   215561  1453386      0\n",
       "1   176886  1656047      0"
      ]
     },
     "execution_count": 28,
     "metadata": {},
     "output_type": "execute_result"
    }
   ],
   "source": [
    "neg_samples.head(2)"
   ]
  },
  {
   "cell_type": "markdown",
   "id": "342ea858",
   "metadata": {},
   "source": [
    "# 4. Training Data Preparation"
   ]
  },
  {
   "cell_type": "markdown",
   "id": "f033153e",
   "metadata": {},
   "source": [
    "## 4.1 Concatenation"
   ]
  },
  {
   "cell_type": "code",
   "execution_count": 29,
   "id": "6cfa2f00",
   "metadata": {},
   "outputs": [],
   "source": [
    "train_data = pd.concat([pos_samples, neg_samples]).reset_index(drop=True)"
   ]
  },
  {
   "cell_type": "code",
   "execution_count": 30,
   "id": "482d3abb",
   "metadata": {},
   "outputs": [
    {
     "data": {
      "text/html": [
       "<div>\n",
       "<style scoped>\n",
       "    .dataframe tbody tr th:only-of-type {\n",
       "        vertical-align: middle;\n",
       "    }\n",
       "\n",
       "    .dataframe tbody tr th {\n",
       "        vertical-align: top;\n",
       "    }\n",
       "\n",
       "    .dataframe thead th {\n",
       "        text-align: right;\n",
       "    }\n",
       "</style>\n",
       "<table border=\"1\" class=\"dataframe\">\n",
       "  <thead>\n",
       "    <tr style=\"text-align: right;\">\n",
       "      <th></th>\n",
       "      <th>user_id</th>\n",
       "      <th>item_ID</th>\n",
       "      <th>label</th>\n",
       "    </tr>\n",
       "  </thead>\n",
       "  <tbody>\n",
       "    <tr>\n",
       "      <th>0</th>\n",
       "      <td>209227</td>\n",
       "      <td>1595587</td>\n",
       "      <td>1</td>\n",
       "    </tr>\n",
       "    <tr>\n",
       "      <th>1</th>\n",
       "      <td>243637</td>\n",
       "      <td>1639001</td>\n",
       "      <td>1</td>\n",
       "    </tr>\n",
       "    <tr>\n",
       "      <th>2</th>\n",
       "      <td>265503</td>\n",
       "      <td>1675222</td>\n",
       "      <td>1</td>\n",
       "    </tr>\n",
       "    <tr>\n",
       "      <th>3</th>\n",
       "      <td>183614</td>\n",
       "      <td>1662640</td>\n",
       "      <td>1</td>\n",
       "    </tr>\n",
       "    <tr>\n",
       "      <th>4</th>\n",
       "      <td>188753</td>\n",
       "      <td>1662540</td>\n",
       "      <td>1</td>\n",
       "    </tr>\n",
       "  </tbody>\n",
       "</table>\n",
       "</div>"
      ],
      "text/plain": [
       "   user_id  item_ID  label\n",
       "0   209227  1595587      1\n",
       "1   243637  1639001      1\n",
       "2   265503  1675222      1\n",
       "3   183614  1662640      1\n",
       "4   188753  1662540      1"
      ]
     },
     "execution_count": 30,
     "metadata": {},
     "output_type": "execute_result"
    }
   ],
   "source": [
    "train_data.head()"
   ]
  },
  {
   "cell_type": "markdown",
   "id": "9f83d0ef",
   "metadata": {},
   "source": [
    "## 4.2 Adding features"
   ]
  },
  {
   "cell_type": "code",
   "execution_count": 31,
   "id": "67210343",
   "metadata": {},
   "outputs": [],
   "source": [
    "train_data = train_data.merge(train_item_feas, on=\"item_ID\")"
   ]
  },
  {
   "cell_type": "code",
   "execution_count": 32,
   "id": "523d1d15",
   "metadata": {},
   "outputs": [
    {
     "data": {
      "text/html": [
       "<div>\n",
       "<style scoped>\n",
       "    .dataframe tbody tr th:only-of-type {\n",
       "        vertical-align: middle;\n",
       "    }\n",
       "\n",
       "    .dataframe tbody tr th {\n",
       "        vertical-align: top;\n",
       "    }\n",
       "\n",
       "    .dataframe thead th {\n",
       "        text-align: right;\n",
       "    }\n",
       "</style>\n",
       "<table border=\"1\" class=\"dataframe\">\n",
       "  <thead>\n",
       "    <tr style=\"text-align: right;\">\n",
       "      <th></th>\n",
       "      <th>user_id</th>\n",
       "      <th>item_ID</th>\n",
       "      <th>label</th>\n",
       "      <th>unit_price</th>\n",
       "      <th>discount</th>\n",
       "    </tr>\n",
       "  </thead>\n",
       "  <tbody>\n",
       "    <tr>\n",
       "      <th>0</th>\n",
       "      <td>209227</td>\n",
       "      <td>1595587</td>\n",
       "      <td>1</td>\n",
       "      <td>2880.0</td>\n",
       "      <td>0.600000</td>\n",
       "    </tr>\n",
       "    <tr>\n",
       "      <th>1</th>\n",
       "      <td>243637</td>\n",
       "      <td>1639001</td>\n",
       "      <td>1</td>\n",
       "      <td>519.0</td>\n",
       "      <td>0.524242</td>\n",
       "    </tr>\n",
       "    <tr>\n",
       "      <th>2</th>\n",
       "      <td>265503</td>\n",
       "      <td>1675222</td>\n",
       "      <td>1</td>\n",
       "      <td>899.0</td>\n",
       "      <td>0.359600</td>\n",
       "    </tr>\n",
       "    <tr>\n",
       "      <th>3</th>\n",
       "      <td>183614</td>\n",
       "      <td>1662640</td>\n",
       "      <td>1</td>\n",
       "      <td>985.0</td>\n",
       "      <td>0.299392</td>\n",
       "    </tr>\n",
       "    <tr>\n",
       "      <th>4</th>\n",
       "      <td>188753</td>\n",
       "      <td>1662540</td>\n",
       "      <td>1</td>\n",
       "      <td>199.0</td>\n",
       "      <td>0.406122</td>\n",
       "    </tr>\n",
       "  </tbody>\n",
       "</table>\n",
       "</div>"
      ],
      "text/plain": [
       "   user_id  item_ID  label  unit_price  discount\n",
       "0   209227  1595587      1      2880.0  0.600000\n",
       "1   243637  1639001      1       519.0  0.524242\n",
       "2   265503  1675222      1       899.0  0.359600\n",
       "3   183614  1662640      1       985.0  0.299392\n",
       "4   188753  1662540      1       199.0  0.406122"
      ]
     },
     "execution_count": 32,
     "metadata": {},
     "output_type": "execute_result"
    }
   ],
   "source": [
    "train_data.head()"
   ]
  },
  {
   "cell_type": "code",
   "execution_count": 33,
   "id": "854df45e",
   "metadata": {},
   "outputs": [],
   "source": [
    "train_data = train_data.merge(train_user_feas, on=\"user_id\", suffixes=(\"_item\", \"_user\"))"
   ]
  },
  {
   "cell_type": "code",
   "execution_count": 34,
   "id": "76627b0e",
   "metadata": {},
   "outputs": [
    {
     "data": {
      "text/html": [
       "<div>\n",
       "<style scoped>\n",
       "    .dataframe tbody tr th:only-of-type {\n",
       "        vertical-align: middle;\n",
       "    }\n",
       "\n",
       "    .dataframe tbody tr th {\n",
       "        vertical-align: top;\n",
       "    }\n",
       "\n",
       "    .dataframe thead th {\n",
       "        text-align: right;\n",
       "    }\n",
       "</style>\n",
       "<table border=\"1\" class=\"dataframe\">\n",
       "  <thead>\n",
       "    <tr style=\"text-align: right;\">\n",
       "      <th></th>\n",
       "      <th>user_id</th>\n",
       "      <th>item_ID</th>\n",
       "      <th>label</th>\n",
       "      <th>unit_price_item</th>\n",
       "      <th>discount_item</th>\n",
       "      <th>unit_price_user</th>\n",
       "      <th>discount_user</th>\n",
       "    </tr>\n",
       "  </thead>\n",
       "  <tbody>\n",
       "    <tr>\n",
       "      <th>0</th>\n",
       "      <td>209227</td>\n",
       "      <td>1595587</td>\n",
       "      <td>1</td>\n",
       "      <td>2880.0</td>\n",
       "      <td>0.600000</td>\n",
       "      <td>2533.333333</td>\n",
       "      <td>0.682828</td>\n",
       "    </tr>\n",
       "    <tr>\n",
       "      <th>1</th>\n",
       "      <td>243637</td>\n",
       "      <td>1639001</td>\n",
       "      <td>1</td>\n",
       "      <td>519.0</td>\n",
       "      <td>0.524242</td>\n",
       "      <td>519.000000</td>\n",
       "      <td>0.524242</td>\n",
       "    </tr>\n",
       "    <tr>\n",
       "      <th>2</th>\n",
       "      <td>265503</td>\n",
       "      <td>1675222</td>\n",
       "      <td>1</td>\n",
       "      <td>899.0</td>\n",
       "      <td>0.359600</td>\n",
       "      <td>643.000000</td>\n",
       "      <td>0.233700</td>\n",
       "    </tr>\n",
       "    <tr>\n",
       "      <th>3</th>\n",
       "      <td>183614</td>\n",
       "      <td>1662640</td>\n",
       "      <td>1</td>\n",
       "      <td>985.0</td>\n",
       "      <td>0.299392</td>\n",
       "      <td>632.941364</td>\n",
       "      <td>0.393443</td>\n",
       "    </tr>\n",
       "    <tr>\n",
       "      <th>4</th>\n",
       "      <td>188753</td>\n",
       "      <td>1662540</td>\n",
       "      <td>1</td>\n",
       "      <td>199.0</td>\n",
       "      <td>0.406122</td>\n",
       "      <td>199.000000</td>\n",
       "      <td>0.406122</td>\n",
       "    </tr>\n",
       "  </tbody>\n",
       "</table>\n",
       "</div>"
      ],
      "text/plain": [
       "   user_id  item_ID  label  unit_price_item  discount_item  unit_price_user  \\\n",
       "0   209227  1595587      1           2880.0       0.600000      2533.333333   \n",
       "1   243637  1639001      1            519.0       0.524242       519.000000   \n",
       "2   265503  1675222      1            899.0       0.359600       643.000000   \n",
       "3   183614  1662640      1            985.0       0.299392       632.941364   \n",
       "4   188753  1662540      1            199.0       0.406122       199.000000   \n",
       "\n",
       "   discount_user  \n",
       "0       0.682828  \n",
       "1       0.524242  \n",
       "2       0.233700  \n",
       "3       0.393443  \n",
       "4       0.406122  "
      ]
     },
     "execution_count": 34,
     "metadata": {},
     "output_type": "execute_result"
    }
   ],
   "source": [
    "train_data.head()"
   ]
  },
  {
   "cell_type": "markdown",
   "id": "89efb2e8",
   "metadata": {},
   "source": [
    "## 4.3 Splitting Features and Labels"
   ]
  },
  {
   "cell_type": "code",
   "execution_count": 35,
   "id": "3020fbca",
   "metadata": {},
   "outputs": [],
   "source": [
    "y_train = train_data[\"label\"]"
   ]
  },
  {
   "cell_type": "code",
   "execution_count": 36,
   "id": "fb4b464a",
   "metadata": {},
   "outputs": [],
   "source": [
    "features = list(train_data.columns)\n",
    "features.remove(\"label\")\n",
    "features.remove(\"user_id\")\n",
    "features.remove(\"item_ID\")"
   ]
  },
  {
   "cell_type": "code",
   "execution_count": 37,
   "id": "41e3f174",
   "metadata": {},
   "outputs": [],
   "source": [
    "X_train = train_data[features]"
   ]
  },
  {
   "cell_type": "markdown",
   "id": "9af896e6",
   "metadata": {},
   "source": [
    "# 5. Modeling"
   ]
  },
  {
   "cell_type": "code",
   "execution_count": 38,
   "id": "383318fe",
   "metadata": {},
   "outputs": [],
   "source": [
    "from sklearn.linear_model import LogisticRegression"
   ]
  },
  {
   "cell_type": "code",
   "execution_count": 39,
   "id": "d6ae11ce",
   "metadata": {},
   "outputs": [],
   "source": [
    "lr = LogisticRegression()"
   ]
  },
  {
   "cell_type": "code",
   "execution_count": 40,
   "id": "44738ed1",
   "metadata": {},
   "outputs": [],
   "source": [
    "model = lr.fit(X_train, y_train)"
   ]
  },
  {
   "cell_type": "markdown",
   "id": "9ae97f8c",
   "metadata": {},
   "source": [
    "# 6. Test Dataset Preparation"
   ]
  },
  {
   "cell_type": "markdown",
   "id": "b1481db5",
   "metadata": {},
   "source": [
    "## 6.1 Item Features"
   ]
  },
  {
   "cell_type": "code",
   "execution_count": 41,
   "id": "95cf758b",
   "metadata": {},
   "outputs": [],
   "source": [
    "test_items = pd.read_csv(\"test_items.csv\")"
   ]
  },
  {
   "cell_type": "code",
   "execution_count": 42,
   "id": "97dad6a4",
   "metadata": {},
   "outputs": [
    {
     "data": {
      "text/html": [
       "<div>\n",
       "<style scoped>\n",
       "    .dataframe tbody tr th:only-of-type {\n",
       "        vertical-align: middle;\n",
       "    }\n",
       "\n",
       "    .dataframe tbody tr th {\n",
       "        vertical-align: top;\n",
       "    }\n",
       "\n",
       "    .dataframe thead th {\n",
       "        text-align: right;\n",
       "    }\n",
       "</style>\n",
       "<table border=\"1\" class=\"dataframe\">\n",
       "  <thead>\n",
       "    <tr style=\"text-align: right;\">\n",
       "      <th></th>\n",
       "      <th>item_ID</th>\n",
       "      <th>item_name</th>\n",
       "      <th>brand</th>\n",
       "      <th>channel</th>\n",
       "      <th>unit_price</th>\n",
       "      <th>category</th>\n",
       "      <th>size</th>\n",
       "      <th>color</th>\n",
       "      <th>discount</th>\n",
       "      <th>gender</th>\n",
       "      <th>...</th>\n",
       "      <th>brand_location_map</th>\n",
       "      <th>materials_map</th>\n",
       "      <th>sex</th>\n",
       "      <th>country_size</th>\n",
       "      <th>country_in_stock</th>\n",
       "      <th>tag</th>\n",
       "      <th>price_range</th>\n",
       "      <th>country</th>\n",
       "      <th>style_50</th>\n",
       "      <th>color_50</th>\n",
       "    </tr>\n",
       "  </thead>\n",
       "  <tbody>\n",
       "    <tr>\n",
       "      <th>0</th>\n",
       "      <td>1657680</td>\n",
       "      <td>Alexia Sandra 牛仔系列 女士简约松紧腰牛仔长裤【477948NZ4K9605 ...</td>\n",
       "      <td>ALEXIA SANDRA</td>\n",
       "      <td>54</td>\n",
       "      <td>871.46</td>\n",
       "      <td>牛仔裤</td>\n",
       "      <td>S</td>\n",
       "      <td>蓝色</td>\n",
       "      <td>0.738525</td>\n",
       "      <td>女</td>\n",
       "      <td>...</td>\n",
       "      <td>NaN</td>\n",
       "      <td>NaN</td>\n",
       "      <td>NaN</td>\n",
       "      <td>NaN</td>\n",
       "      <td>NaN</td>\n",
       "      <td>现代&amp;女性化&amp;精致</td>\n",
       "      <td>NaN</td>\n",
       "      <td>NaN</td>\n",
       "      <td>优雅</td>\n",
       "      <td>蓝色系列</td>\n",
       "    </tr>\n",
       "    <tr>\n",
       "      <th>1</th>\n",
       "      <td>1525546</td>\n",
       "      <td>CAMPER 女士经典黑色简约日常圆头针扣系带休闲凉鞋，【K200573-012 36】,</td>\n",
       "      <td>CAMPER</td>\n",
       "      <td>54</td>\n",
       "      <td>635.34</td>\n",
       "      <td>凉鞋</td>\n",
       "      <td>36</td>\n",
       "      <td>黑色</td>\n",
       "      <td>0.635976</td>\n",
       "      <td>女</td>\n",
       "      <td>...</td>\n",
       "      <td>SPAIN</td>\n",
       "      <td>牛皮革, 真皮, 其它</td>\n",
       "      <td>女</td>\n",
       "      <td>NaN</td>\n",
       "      <td>SPAIN</td>\n",
       "      <td>后现代&amp;返璞归真&amp;地中海&amp;艺术</td>\n",
       "      <td>3.0</td>\n",
       "      <td>意大利 (IT)</td>\n",
       "      <td>户外风</td>\n",
       "      <td>黑色系列</td>\n",
       "    </tr>\n",
       "  </tbody>\n",
       "</table>\n",
       "<p>2 rows × 24 columns</p>\n",
       "</div>"
      ],
      "text/plain": [
       "   item_ID                                          item_name          brand  \\\n",
       "0  1657680  Alexia Sandra 牛仔系列 女士简约松紧腰牛仔长裤【477948NZ4K9605 ...  ALEXIA SANDRA   \n",
       "1  1525546      CAMPER 女士经典黑色简约日常圆头针扣系带休闲凉鞋，【K200573-012 36】,         CAMPER   \n",
       "\n",
       "   channel  unit_price category size color  discount gender  ...  \\\n",
       "0       54      871.46      牛仔裤    S    蓝色  0.738525      女  ...   \n",
       "1       54      635.34       凉鞋   36    黑色  0.635976      女  ...   \n",
       "\n",
       "  brand_location_map  materials_map  sex country_size country_in_stock  \\\n",
       "0                NaN            NaN  NaN          NaN              NaN   \n",
       "1              SPAIN    牛皮革, 真皮, 其它    女          NaN            SPAIN   \n",
       "\n",
       "               tag price_range   country style_50 color_50  \n",
       "0        现代&女性化&精致         NaN       NaN       优雅     蓝色系列  \n",
       "1  后现代&返璞归真&地中海&艺术         3.0  意大利 (IT)      户外风     黑色系列  \n",
       "\n",
       "[2 rows x 24 columns]"
      ]
     },
     "execution_count": 42,
     "metadata": {},
     "output_type": "execute_result"
    }
   ],
   "source": [
    "test_items.head(2)"
   ]
  },
  {
   "cell_type": "code",
   "execution_count": 43,
   "id": "cf7dda5b",
   "metadata": {},
   "outputs": [],
   "source": [
    "test_item_feas = test_items[[\"item_ID\", \"unit_price\", \"discount\"]]"
   ]
  },
  {
   "cell_type": "code",
   "execution_count": 44,
   "id": "af453e04",
   "metadata": {},
   "outputs": [],
   "source": [
    "test_item_feas = test_item_feas.fillna(train_item_feas.mean())"
   ]
  },
  {
   "cell_type": "code",
   "execution_count": 45,
   "id": "7e3172de",
   "metadata": {},
   "outputs": [
    {
     "data": {
      "text/html": [
       "<div>\n",
       "<style scoped>\n",
       "    .dataframe tbody tr th:only-of-type {\n",
       "        vertical-align: middle;\n",
       "    }\n",
       "\n",
       "    .dataframe tbody tr th {\n",
       "        vertical-align: top;\n",
       "    }\n",
       "\n",
       "    .dataframe thead th {\n",
       "        text-align: right;\n",
       "    }\n",
       "</style>\n",
       "<table border=\"1\" class=\"dataframe\">\n",
       "  <thead>\n",
       "    <tr style=\"text-align: right;\">\n",
       "      <th></th>\n",
       "      <th>item_ID</th>\n",
       "      <th>unit_price</th>\n",
       "      <th>discount</th>\n",
       "    </tr>\n",
       "  </thead>\n",
       "  <tbody>\n",
       "    <tr>\n",
       "      <th>0</th>\n",
       "      <td>1657680</td>\n",
       "      <td>871.46</td>\n",
       "      <td>0.738525</td>\n",
       "    </tr>\n",
       "    <tr>\n",
       "      <th>1</th>\n",
       "      <td>1525546</td>\n",
       "      <td>635.34</td>\n",
       "      <td>0.635976</td>\n",
       "    </tr>\n",
       "  </tbody>\n",
       "</table>\n",
       "</div>"
      ],
      "text/plain": [
       "   item_ID  unit_price  discount\n",
       "0  1657680      871.46  0.738525\n",
       "1  1525546      635.34  0.635976"
      ]
     },
     "execution_count": 45,
     "metadata": {},
     "output_type": "execute_result"
    }
   ],
   "source": [
    "test_item_feas.head(2)"
   ]
  },
  {
   "cell_type": "markdown",
   "id": "bf9892d3",
   "metadata": {},
   "source": [
    "## 6.2 User Features"
   ]
  },
  {
   "cell_type": "code",
   "execution_count": 46,
   "id": "db02ae7b",
   "metadata": {},
   "outputs": [],
   "source": [
    "test_users = pd.read_csv(\"test_users.csv\")"
   ]
  },
  {
   "cell_type": "code",
   "execution_count": 47,
   "id": "f0ad1b36",
   "metadata": {},
   "outputs": [
    {
     "data": {
      "text/html": [
       "<div>\n",
       "<style scoped>\n",
       "    .dataframe tbody tr th:only-of-type {\n",
       "        vertical-align: middle;\n",
       "    }\n",
       "\n",
       "    .dataframe tbody tr th {\n",
       "        vertical-align: top;\n",
       "    }\n",
       "\n",
       "    .dataframe thead th {\n",
       "        text-align: right;\n",
       "    }\n",
       "</style>\n",
       "<table border=\"1\" class=\"dataframe\">\n",
       "  <thead>\n",
       "    <tr style=\"text-align: right;\">\n",
       "      <th></th>\n",
       "      <th>user_id</th>\n",
       "    </tr>\n",
       "  </thead>\n",
       "  <tbody>\n",
       "    <tr>\n",
       "      <th>0</th>\n",
       "      <td>1</td>\n",
       "    </tr>\n",
       "    <tr>\n",
       "      <th>1</th>\n",
       "      <td>2</td>\n",
       "    </tr>\n",
       "  </tbody>\n",
       "</table>\n",
       "</div>"
      ],
      "text/plain": [
       "   user_id\n",
       "0        1\n",
       "1        2"
      ]
     },
     "execution_count": 47,
     "metadata": {},
     "output_type": "execute_result"
    }
   ],
   "source": [
    "test_users.head(2)"
   ]
  },
  {
   "cell_type": "code",
   "execution_count": 48,
   "id": "5596695b",
   "metadata": {},
   "outputs": [],
   "source": [
    "test_user_feas = test_users.merge(train_user_feas, how=\"right\", on=\"user_id\")"
   ]
  },
  {
   "cell_type": "code",
   "execution_count": 49,
   "id": "511cb4eb",
   "metadata": {},
   "outputs": [
    {
     "data": {
      "text/html": [
       "<div>\n",
       "<style scoped>\n",
       "    .dataframe tbody tr th:only-of-type {\n",
       "        vertical-align: middle;\n",
       "    }\n",
       "\n",
       "    .dataframe tbody tr th {\n",
       "        vertical-align: top;\n",
       "    }\n",
       "\n",
       "    .dataframe thead th {\n",
       "        text-align: right;\n",
       "    }\n",
       "</style>\n",
       "<table border=\"1\" class=\"dataframe\">\n",
       "  <thead>\n",
       "    <tr style=\"text-align: right;\">\n",
       "      <th></th>\n",
       "      <th>user_id</th>\n",
       "      <th>unit_price</th>\n",
       "      <th>discount</th>\n",
       "    </tr>\n",
       "  </thead>\n",
       "  <tbody>\n",
       "    <tr>\n",
       "      <th>0</th>\n",
       "      <td>1</td>\n",
       "      <td>1211.494000</td>\n",
       "      <td>0.643710</td>\n",
       "    </tr>\n",
       "    <tr>\n",
       "      <th>1</th>\n",
       "      <td>2</td>\n",
       "      <td>895.027108</td>\n",
       "      <td>0.310057</td>\n",
       "    </tr>\n",
       "    <tr>\n",
       "      <th>2</th>\n",
       "      <td>3</td>\n",
       "      <td>3002.775556</td>\n",
       "      <td>0.461823</td>\n",
       "    </tr>\n",
       "    <tr>\n",
       "      <th>3</th>\n",
       "      <td>4</td>\n",
       "      <td>858.140791</td>\n",
       "      <td>0.251688</td>\n",
       "    </tr>\n",
       "    <tr>\n",
       "      <th>4</th>\n",
       "      <td>5</td>\n",
       "      <td>1453.974430</td>\n",
       "      <td>0.337430</td>\n",
       "    </tr>\n",
       "  </tbody>\n",
       "</table>\n",
       "</div>"
      ],
      "text/plain": [
       "   user_id   unit_price  discount\n",
       "0        1  1211.494000  0.643710\n",
       "1        2   895.027108  0.310057\n",
       "2        3  3002.775556  0.461823\n",
       "3        4   858.140791  0.251688\n",
       "4        5  1453.974430  0.337430"
      ]
     },
     "execution_count": 49,
     "metadata": {},
     "output_type": "execute_result"
    }
   ],
   "source": [
    "test_user_feas.head()"
   ]
  },
  {
   "cell_type": "markdown",
   "id": "a806b73b-2293-4d82-bfcb-f24579465b04",
   "metadata": {},
   "source": [
    "# 7. Recommend items for one user"
   ]
  },
  {
   "cell_type": "markdown",
   "id": "fcc356ce-e0a5-4bb4-92a5-c7ade9af168e",
   "metadata": {},
   "source": [
    "## 7.1 Create interaction data for an user"
   ]
  },
  {
   "cell_type": "code",
   "execution_count": 50,
   "id": "55d62925-b421-4774-b843-543e5fae6b0f",
   "metadata": {},
   "outputs": [],
   "source": [
    "uid = 1"
   ]
  },
  {
   "cell_type": "code",
   "execution_count": 51,
   "id": "b9107fda",
   "metadata": {},
   "outputs": [],
   "source": [
    "test_interactions = pd.DataFrame()\n",
    "test_interactions[\"item_ID\"] = test_item_feas[\"item_ID\"]\n",
    "test_interactions[\"user_id\"] = uid"
   ]
  },
  {
   "cell_type": "code",
   "execution_count": 52,
   "id": "750bee1e",
   "metadata": {},
   "outputs": [
    {
     "data": {
      "text/html": [
       "<div>\n",
       "<style scoped>\n",
       "    .dataframe tbody tr th:only-of-type {\n",
       "        vertical-align: middle;\n",
       "    }\n",
       "\n",
       "    .dataframe tbody tr th {\n",
       "        vertical-align: top;\n",
       "    }\n",
       "\n",
       "    .dataframe thead th {\n",
       "        text-align: right;\n",
       "    }\n",
       "</style>\n",
       "<table border=\"1\" class=\"dataframe\">\n",
       "  <thead>\n",
       "    <tr style=\"text-align: right;\">\n",
       "      <th></th>\n",
       "      <th>item_ID</th>\n",
       "      <th>user_id</th>\n",
       "    </tr>\n",
       "  </thead>\n",
       "  <tbody>\n",
       "    <tr>\n",
       "      <th>0</th>\n",
       "      <td>1657680</td>\n",
       "      <td>1</td>\n",
       "    </tr>\n",
       "    <tr>\n",
       "      <th>1</th>\n",
       "      <td>1525546</td>\n",
       "      <td>1</td>\n",
       "    </tr>\n",
       "  </tbody>\n",
       "</table>\n",
       "</div>"
      ],
      "text/plain": [
       "   item_ID  user_id\n",
       "0  1657680        1\n",
       "1  1525546        1"
      ]
     },
     "execution_count": 52,
     "metadata": {},
     "output_type": "execute_result"
    }
   ],
   "source": [
    "test_interactions.head(2)"
   ]
  },
  {
   "cell_type": "markdown",
   "id": "5b655cd1-51c5-4d9a-8973-dc380a07e38f",
   "metadata": {},
   "source": [
    "## 7.2 Add features."
   ]
  },
  {
   "cell_type": "code",
   "execution_count": 53,
   "id": "9f47e1ff",
   "metadata": {},
   "outputs": [],
   "source": [
    "test_data = test_interactions.merge(test_item_feas, on=\"item_ID\")"
   ]
  },
  {
   "cell_type": "code",
   "execution_count": 54,
   "id": "4b3f6f5d",
   "metadata": {},
   "outputs": [],
   "source": [
    "test_data = test_data.merge(test_user_feas, on=\"user_id\", suffixes=(\"_item\", \"_user\"))"
   ]
  },
  {
   "cell_type": "code",
   "execution_count": 55,
   "id": "dcfaee33",
   "metadata": {},
   "outputs": [
    {
     "data": {
      "text/html": [
       "<div>\n",
       "<style scoped>\n",
       "    .dataframe tbody tr th:only-of-type {\n",
       "        vertical-align: middle;\n",
       "    }\n",
       "\n",
       "    .dataframe tbody tr th {\n",
       "        vertical-align: top;\n",
       "    }\n",
       "\n",
       "    .dataframe thead th {\n",
       "        text-align: right;\n",
       "    }\n",
       "</style>\n",
       "<table border=\"1\" class=\"dataframe\">\n",
       "  <thead>\n",
       "    <tr style=\"text-align: right;\">\n",
       "      <th></th>\n",
       "      <th>item_ID</th>\n",
       "      <th>user_id</th>\n",
       "      <th>unit_price_item</th>\n",
       "      <th>discount_item</th>\n",
       "      <th>unit_price_user</th>\n",
       "      <th>discount_user</th>\n",
       "    </tr>\n",
       "  </thead>\n",
       "  <tbody>\n",
       "    <tr>\n",
       "      <th>0</th>\n",
       "      <td>1657680</td>\n",
       "      <td>1</td>\n",
       "      <td>871.46</td>\n",
       "      <td>0.738525</td>\n",
       "      <td>1211.494</td>\n",
       "      <td>0.64371</td>\n",
       "    </tr>\n",
       "    <tr>\n",
       "      <th>1</th>\n",
       "      <td>1525546</td>\n",
       "      <td>1</td>\n",
       "      <td>635.34</td>\n",
       "      <td>0.635976</td>\n",
       "      <td>1211.494</td>\n",
       "      <td>0.64371</td>\n",
       "    </tr>\n",
       "    <tr>\n",
       "      <th>2</th>\n",
       "      <td>1525194</td>\n",
       "      <td>1</td>\n",
       "      <td>400.26</td>\n",
       "      <td>0.588618</td>\n",
       "      <td>1211.494</td>\n",
       "      <td>0.64371</td>\n",
       "    </tr>\n",
       "    <tr>\n",
       "      <th>3</th>\n",
       "      <td>1523948</td>\n",
       "      <td>1</td>\n",
       "      <td>358.62</td>\n",
       "      <td>0.587902</td>\n",
       "      <td>1211.494</td>\n",
       "      <td>0.64371</td>\n",
       "    </tr>\n",
       "    <tr>\n",
       "      <th>4</th>\n",
       "      <td>1534750</td>\n",
       "      <td>1</td>\n",
       "      <td>1432.53</td>\n",
       "      <td>0.761984</td>\n",
       "      <td>1211.494</td>\n",
       "      <td>0.64371</td>\n",
       "    </tr>\n",
       "  </tbody>\n",
       "</table>\n",
       "</div>"
      ],
      "text/plain": [
       "   item_ID  user_id  unit_price_item  discount_item  unit_price_user  \\\n",
       "0  1657680        1           871.46       0.738525         1211.494   \n",
       "1  1525546        1           635.34       0.635976         1211.494   \n",
       "2  1525194        1           400.26       0.588618         1211.494   \n",
       "3  1523948        1           358.62       0.587902         1211.494   \n",
       "4  1534750        1          1432.53       0.761984         1211.494   \n",
       "\n",
       "   discount_user  \n",
       "0        0.64371  \n",
       "1        0.64371  \n",
       "2        0.64371  \n",
       "3        0.64371  \n",
       "4        0.64371  "
      ]
     },
     "execution_count": 55,
     "metadata": {},
     "output_type": "execute_result"
    }
   ],
   "source": [
    "test_data.head()"
   ]
  },
  {
   "cell_type": "markdown",
   "id": "e605d218-4e42-49e2-97a0-916491861f74",
   "metadata": {},
   "source": [
    "## 7.3 Prepare for model predicting"
   ]
  },
  {
   "cell_type": "code",
   "execution_count": 56,
   "id": "1e9e1317",
   "metadata": {},
   "outputs": [],
   "source": [
    "features = list(test_data.columns)\n",
    "features.remove(\"item_ID\")\n",
    "features.remove(\"user_id\")"
   ]
  },
  {
   "cell_type": "code",
   "execution_count": 57,
   "id": "2c7ab247",
   "metadata": {},
   "outputs": [],
   "source": [
    "test_X = test_data[features]"
   ]
  },
  {
   "cell_type": "code",
   "execution_count": 58,
   "id": "f70cf3ee",
   "metadata": {},
   "outputs": [
    {
     "data": {
      "text/html": [
       "<div>\n",
       "<style scoped>\n",
       "    .dataframe tbody tr th:only-of-type {\n",
       "        vertical-align: middle;\n",
       "    }\n",
       "\n",
       "    .dataframe tbody tr th {\n",
       "        vertical-align: top;\n",
       "    }\n",
       "\n",
       "    .dataframe thead th {\n",
       "        text-align: right;\n",
       "    }\n",
       "</style>\n",
       "<table border=\"1\" class=\"dataframe\">\n",
       "  <thead>\n",
       "    <tr style=\"text-align: right;\">\n",
       "      <th></th>\n",
       "      <th>unit_price_item</th>\n",
       "      <th>discount_item</th>\n",
       "      <th>unit_price_user</th>\n",
       "      <th>discount_user</th>\n",
       "    </tr>\n",
       "  </thead>\n",
       "  <tbody>\n",
       "    <tr>\n",
       "      <th>0</th>\n",
       "      <td>871.46</td>\n",
       "      <td>0.738525</td>\n",
       "      <td>1211.494</td>\n",
       "      <td>0.64371</td>\n",
       "    </tr>\n",
       "    <tr>\n",
       "      <th>1</th>\n",
       "      <td>635.34</td>\n",
       "      <td>0.635976</td>\n",
       "      <td>1211.494</td>\n",
       "      <td>0.64371</td>\n",
       "    </tr>\n",
       "  </tbody>\n",
       "</table>\n",
       "</div>"
      ],
      "text/plain": [
       "   unit_price_item  discount_item  unit_price_user  discount_user\n",
       "0           871.46       0.738525         1211.494        0.64371\n",
       "1           635.34       0.635976         1211.494        0.64371"
      ]
     },
     "execution_count": 58,
     "metadata": {},
     "output_type": "execute_result"
    }
   ],
   "source": [
    "test_X.head(2)"
   ]
  },
  {
   "cell_type": "markdown",
   "id": "e9a6a6ae-5173-433a-95a4-9afb9023d824",
   "metadata": {},
   "source": [
    "## 7.4 Predict the probabilities that the purchases would happen"
   ]
  },
  {
   "cell_type": "code",
   "execution_count": 59,
   "id": "764af6bc",
   "metadata": {},
   "outputs": [],
   "source": [
    "y_pred = lr.predict_proba(test_X)[:, 1]"
   ]
  },
  {
   "cell_type": "code",
   "execution_count": 60,
   "id": "c732bc12",
   "metadata": {},
   "outputs": [
    {
     "data": {
      "text/plain": [
       "array([0.52153351, 0.52429167, 0.53149692, ..., 0.45639645, 0.39551747,\n",
       "       0.42569783])"
      ]
     },
     "execution_count": 60,
     "metadata": {},
     "output_type": "execute_result"
    }
   ],
   "source": [
    "y_pred"
   ]
  },
  {
   "cell_type": "markdown",
   "id": "84a5f2d6-1c7e-4787-9f77-232df78a2742",
   "metadata": {},
   "source": [
    "## 7.5 Get the 20 items which would most possibily purchased"
   ]
  },
  {
   "cell_type": "code",
   "execution_count": 61,
   "id": "833a825c",
   "metadata": {},
   "outputs": [],
   "source": [
    "test_data[\"score\"] = y_pred"
   ]
  },
  {
   "cell_type": "code",
   "execution_count": 62,
   "id": "086849dd",
   "metadata": {},
   "outputs": [
    {
     "data": {
      "text/html": [
       "<div>\n",
       "<style scoped>\n",
       "    .dataframe tbody tr th:only-of-type {\n",
       "        vertical-align: middle;\n",
       "    }\n",
       "\n",
       "    .dataframe tbody tr th {\n",
       "        vertical-align: top;\n",
       "    }\n",
       "\n",
       "    .dataframe thead th {\n",
       "        text-align: right;\n",
       "    }\n",
       "</style>\n",
       "<table border=\"1\" class=\"dataframe\">\n",
       "  <thead>\n",
       "    <tr style=\"text-align: right;\">\n",
       "      <th></th>\n",
       "      <th>item_ID</th>\n",
       "      <th>user_id</th>\n",
       "      <th>unit_price_item</th>\n",
       "      <th>discount_item</th>\n",
       "      <th>unit_price_user</th>\n",
       "      <th>discount_user</th>\n",
       "      <th>score</th>\n",
       "    </tr>\n",
       "  </thead>\n",
       "  <tbody>\n",
       "    <tr>\n",
       "      <th>0</th>\n",
       "      <td>1657680</td>\n",
       "      <td>1</td>\n",
       "      <td>871.46</td>\n",
       "      <td>0.738525</td>\n",
       "      <td>1211.494</td>\n",
       "      <td>0.64371</td>\n",
       "      <td>0.521534</td>\n",
       "    </tr>\n",
       "    <tr>\n",
       "      <th>1</th>\n",
       "      <td>1525546</td>\n",
       "      <td>1</td>\n",
       "      <td>635.34</td>\n",
       "      <td>0.635976</td>\n",
       "      <td>1211.494</td>\n",
       "      <td>0.64371</td>\n",
       "      <td>0.524292</td>\n",
       "    </tr>\n",
       "  </tbody>\n",
       "</table>\n",
       "</div>"
      ],
      "text/plain": [
       "   item_ID  user_id  unit_price_item  discount_item  unit_price_user  \\\n",
       "0  1657680        1           871.46       0.738525         1211.494   \n",
       "1  1525546        1           635.34       0.635976         1211.494   \n",
       "\n",
       "   discount_user     score  \n",
       "0        0.64371  0.521534  \n",
       "1        0.64371  0.524292  "
      ]
     },
     "execution_count": 62,
     "metadata": {},
     "output_type": "execute_result"
    }
   ],
   "source": [
    "test_data.head(2)"
   ]
  },
  {
   "cell_type": "code",
   "execution_count": 63,
   "id": "b698dd2a",
   "metadata": {},
   "outputs": [],
   "source": [
    "test_data = test_data.sort_values(by=[\"score\"], axis=0, ascending=False)"
   ]
  },
  {
   "cell_type": "code",
   "execution_count": 64,
   "id": "fd389e8e",
   "metadata": {},
   "outputs": [
    {
     "data": {
      "text/html": [
       "<div>\n",
       "<style scoped>\n",
       "    .dataframe tbody tr th:only-of-type {\n",
       "        vertical-align: middle;\n",
       "    }\n",
       "\n",
       "    .dataframe tbody tr th {\n",
       "        vertical-align: top;\n",
       "    }\n",
       "\n",
       "    .dataframe thead th {\n",
       "        text-align: right;\n",
       "    }\n",
       "</style>\n",
       "<table border=\"1\" class=\"dataframe\">\n",
       "  <thead>\n",
       "    <tr style=\"text-align: right;\">\n",
       "      <th></th>\n",
       "      <th>item_ID</th>\n",
       "      <th>user_id</th>\n",
       "      <th>unit_price_item</th>\n",
       "      <th>discount_item</th>\n",
       "      <th>unit_price_user</th>\n",
       "      <th>discount_user</th>\n",
       "      <th>score</th>\n",
       "    </tr>\n",
       "  </thead>\n",
       "  <tbody>\n",
       "    <tr>\n",
       "      <th>823</th>\n",
       "      <td>1664858</td>\n",
       "      <td>1</td>\n",
       "      <td>88.9</td>\n",
       "      <td>0.998876</td>\n",
       "      <td>1211.494</td>\n",
       "      <td>0.64371</td>\n",
       "      <td>0.579118</td>\n",
       "    </tr>\n",
       "    <tr>\n",
       "      <th>2223</th>\n",
       "      <td>1604949</td>\n",
       "      <td>1</td>\n",
       "      <td>99.0</td>\n",
       "      <td>1.000000</td>\n",
       "      <td>1211.494</td>\n",
       "      <td>0.64371</td>\n",
       "      <td>0.578742</td>\n",
       "    </tr>\n",
       "  </tbody>\n",
       "</table>\n",
       "</div>"
      ],
      "text/plain": [
       "      item_ID  user_id  unit_price_item  discount_item  unit_price_user  \\\n",
       "823   1664858        1             88.9       0.998876         1211.494   \n",
       "2223  1604949        1             99.0       1.000000         1211.494   \n",
       "\n",
       "      discount_user     score  \n",
       "823         0.64371  0.579118  \n",
       "2223        0.64371  0.578742  "
      ]
     },
     "execution_count": 64,
     "metadata": {},
     "output_type": "execute_result"
    }
   ],
   "source": [
    "test_data.head(2)"
   ]
  },
  {
   "cell_type": "code",
   "execution_count": 65,
   "id": "fea42897",
   "metadata": {},
   "outputs": [
    {
     "data": {
      "text/plain": [
       "[1664858,\n",
       " 1604949,\n",
       " 1604950,\n",
       " 1604872,\n",
       " 1610209,\n",
       " 1610210,\n",
       " 1674976,\n",
       " 1674959,\n",
       " 1674958,\n",
       " 1604952,\n",
       " 1604909,\n",
       " 1604951,\n",
       " 1674981,\n",
       " 1690433,\n",
       " 1654976,\n",
       " 1671026,\n",
       " 1664845,\n",
       " 1676199,\n",
       " 1676196,\n",
       " 1607974]"
      ]
     },
     "execution_count": 65,
     "metadata": {},
     "output_type": "execute_result"
    }
   ],
   "source": [
    "list(test_data[\"item_ID\"][:20])"
   ]
  },
  {
   "cell_type": "markdown",
   "id": "ad01dde0-af7c-44b2-bee7-1bc5737b2b40",
   "metadata": {},
   "source": [
    "# 8. Get predictions for all users"
   ]
  },
  {
   "cell_type": "markdown",
   "id": "efdd66a1-d264-4abc-8a49-ffe86a87ed59",
   "metadata": {},
   "source": [
    "## 8.1 Recommend items to all the users"
   ]
  },
  {
   "cell_type": "markdown",
   "id": "aa9259dd-bd42-4180-95cb-0337844d2182",
   "metadata": {},
   "source": [
    "Put all the codes relevant to one-user recommendation into a function."
   ]
  },
  {
   "cell_type": "code",
   "execution_count": 66,
   "id": "29b8c883",
   "metadata": {},
   "outputs": [],
   "source": [
    "def get_top_K(uid, model, test_user_feas, test_item_feas, features, K=20):\n",
    "    test_feas = test_user_feas[test_user_feas[\"user_id\"] == uid]\n",
    "    \n",
    "    test_interactions = pd.DataFrame()\n",
    "    test_interactions[\"item_ID\"] = test_item_feas[\"item_ID\"]\n",
    "    test_interactions[\"user_id\"] = uid\n",
    "    \n",
    "    test_data = test_interactions\n",
    "    test_data = test_data.merge(test_item_feas, on=\"item_ID\")\n",
    "    test_data = test_data.merge(test_user_feas, on=\"user_id\", suffixes=(\"_item\", \"_user\"))\n",
    "    \n",
    "    test_X = test_data[features]\n",
    "    \n",
    "    y_pred = model.predict_proba(test_X)[:, 1]\n",
    "    \n",
    "    test_data[\"score\"] = y_pred\n",
    "    \n",
    "    top_K = test_data.sort_values(by=[\"score\"], axis=0, ascending=False)[\"item_ID\"][:K]\n",
    "    \n",
    "    return list(top_K)"
   ]
  },
  {
   "cell_type": "code",
   "execution_count": 67,
   "id": "2c710097",
   "metadata": {
    "scrolled": true
   },
   "outputs": [],
   "source": [
    "results = []\n",
    "for uid in test_users[\"user_id\"]:\n",
    "    result = get_top_K(uid, lr, test_user_feas, test_item_feas, features)\n",
    "    result = [uid] + result\n",
    "    results.append(result)"
   ]
  },
  {
   "cell_type": "markdown",
   "id": "60d196d4-b02c-45f5-9965-5eae9912b2d5",
   "metadata": {},
   "source": [
    "## 8.2 Load the results into a dataframe"
   ]
  },
  {
   "cell_type": "code",
   "execution_count": 68,
   "id": "3701143a",
   "metadata": {},
   "outputs": [],
   "source": [
    "df = pd.DataFrame(results)"
   ]
  },
  {
   "cell_type": "code",
   "execution_count": 69,
   "id": "d61aca5c-034c-472f-9f8d-0746d945d721",
   "metadata": {},
   "outputs": [
    {
     "data": {
      "text/html": [
       "<div>\n",
       "<style scoped>\n",
       "    .dataframe tbody tr th:only-of-type {\n",
       "        vertical-align: middle;\n",
       "    }\n",
       "\n",
       "    .dataframe tbody tr th {\n",
       "        vertical-align: top;\n",
       "    }\n",
       "\n",
       "    .dataframe thead th {\n",
       "        text-align: right;\n",
       "    }\n",
       "</style>\n",
       "<table border=\"1\" class=\"dataframe\">\n",
       "  <thead>\n",
       "    <tr style=\"text-align: right;\">\n",
       "      <th></th>\n",
       "      <th>0</th>\n",
       "      <th>1</th>\n",
       "      <th>2</th>\n",
       "      <th>3</th>\n",
       "      <th>4</th>\n",
       "      <th>5</th>\n",
       "      <th>6</th>\n",
       "      <th>7</th>\n",
       "      <th>8</th>\n",
       "      <th>9</th>\n",
       "      <th>...</th>\n",
       "      <th>11</th>\n",
       "      <th>12</th>\n",
       "      <th>13</th>\n",
       "      <th>14</th>\n",
       "      <th>15</th>\n",
       "      <th>16</th>\n",
       "      <th>17</th>\n",
       "      <th>18</th>\n",
       "      <th>19</th>\n",
       "      <th>20</th>\n",
       "    </tr>\n",
       "  </thead>\n",
       "  <tbody>\n",
       "    <tr>\n",
       "      <th>0</th>\n",
       "      <td>1</td>\n",
       "      <td>1664858</td>\n",
       "      <td>1604949</td>\n",
       "      <td>1604950</td>\n",
       "      <td>1604872</td>\n",
       "      <td>1610209</td>\n",
       "      <td>1610210</td>\n",
       "      <td>1674976</td>\n",
       "      <td>1674959</td>\n",
       "      <td>1674958</td>\n",
       "      <td>...</td>\n",
       "      <td>1604909</td>\n",
       "      <td>1604951</td>\n",
       "      <td>1674981</td>\n",
       "      <td>1690433</td>\n",
       "      <td>1654976</td>\n",
       "      <td>1671026</td>\n",
       "      <td>1664845</td>\n",
       "      <td>1676199</td>\n",
       "      <td>1676196</td>\n",
       "      <td>1607974</td>\n",
       "    </tr>\n",
       "    <tr>\n",
       "      <th>1</th>\n",
       "      <td>2</td>\n",
       "      <td>1664858</td>\n",
       "      <td>1604949</td>\n",
       "      <td>1604950</td>\n",
       "      <td>1604872</td>\n",
       "      <td>1610209</td>\n",
       "      <td>1610210</td>\n",
       "      <td>1674976</td>\n",
       "      <td>1674959</td>\n",
       "      <td>1674958</td>\n",
       "      <td>...</td>\n",
       "      <td>1604909</td>\n",
       "      <td>1604951</td>\n",
       "      <td>1674981</td>\n",
       "      <td>1690433</td>\n",
       "      <td>1654976</td>\n",
       "      <td>1671026</td>\n",
       "      <td>1664845</td>\n",
       "      <td>1676199</td>\n",
       "      <td>1676196</td>\n",
       "      <td>1607974</td>\n",
       "    </tr>\n",
       "    <tr>\n",
       "      <th>2</th>\n",
       "      <td>4</td>\n",
       "      <td>1664858</td>\n",
       "      <td>1604949</td>\n",
       "      <td>1604950</td>\n",
       "      <td>1604872</td>\n",
       "      <td>1610209</td>\n",
       "      <td>1610210</td>\n",
       "      <td>1674976</td>\n",
       "      <td>1674959</td>\n",
       "      <td>1674958</td>\n",
       "      <td>...</td>\n",
       "      <td>1604909</td>\n",
       "      <td>1604951</td>\n",
       "      <td>1674981</td>\n",
       "      <td>1690433</td>\n",
       "      <td>1654976</td>\n",
       "      <td>1671026</td>\n",
       "      <td>1664845</td>\n",
       "      <td>1676199</td>\n",
       "      <td>1676196</td>\n",
       "      <td>1607974</td>\n",
       "    </tr>\n",
       "    <tr>\n",
       "      <th>3</th>\n",
       "      <td>50</td>\n",
       "      <td>1664858</td>\n",
       "      <td>1604949</td>\n",
       "      <td>1604950</td>\n",
       "      <td>1604872</td>\n",
       "      <td>1610209</td>\n",
       "      <td>1610210</td>\n",
       "      <td>1674976</td>\n",
       "      <td>1674959</td>\n",
       "      <td>1674958</td>\n",
       "      <td>...</td>\n",
       "      <td>1604909</td>\n",
       "      <td>1604951</td>\n",
       "      <td>1674981</td>\n",
       "      <td>1690433</td>\n",
       "      <td>1654976</td>\n",
       "      <td>1671026</td>\n",
       "      <td>1664845</td>\n",
       "      <td>1676199</td>\n",
       "      <td>1676196</td>\n",
       "      <td>1607974</td>\n",
       "    </tr>\n",
       "    <tr>\n",
       "      <th>4</th>\n",
       "      <td>65</td>\n",
       "      <td>1664858</td>\n",
       "      <td>1604949</td>\n",
       "      <td>1604950</td>\n",
       "      <td>1604872</td>\n",
       "      <td>1610209</td>\n",
       "      <td>1610210</td>\n",
       "      <td>1674976</td>\n",
       "      <td>1674959</td>\n",
       "      <td>1674958</td>\n",
       "      <td>...</td>\n",
       "      <td>1604909</td>\n",
       "      <td>1604951</td>\n",
       "      <td>1674981</td>\n",
       "      <td>1690433</td>\n",
       "      <td>1654976</td>\n",
       "      <td>1671026</td>\n",
       "      <td>1664845</td>\n",
       "      <td>1676199</td>\n",
       "      <td>1676196</td>\n",
       "      <td>1607974</td>\n",
       "    </tr>\n",
       "  </tbody>\n",
       "</table>\n",
       "<p>5 rows × 21 columns</p>\n",
       "</div>"
      ],
      "text/plain": [
       "   0        1        2        3        4        5        6        7        8   \\\n",
       "0   1  1664858  1604949  1604950  1604872  1610209  1610210  1674976  1674959   \n",
       "1   2  1664858  1604949  1604950  1604872  1610209  1610210  1674976  1674959   \n",
       "2   4  1664858  1604949  1604950  1604872  1610209  1610210  1674976  1674959   \n",
       "3  50  1664858  1604949  1604950  1604872  1610209  1610210  1674976  1674959   \n",
       "4  65  1664858  1604949  1604950  1604872  1610209  1610210  1674976  1674959   \n",
       "\n",
       "        9   ...       11       12       13       14       15       16  \\\n",
       "0  1674958  ...  1604909  1604951  1674981  1690433  1654976  1671026   \n",
       "1  1674958  ...  1604909  1604951  1674981  1690433  1654976  1671026   \n",
       "2  1674958  ...  1604909  1604951  1674981  1690433  1654976  1671026   \n",
       "3  1674958  ...  1604909  1604951  1674981  1690433  1654976  1671026   \n",
       "4  1674958  ...  1604909  1604951  1674981  1690433  1654976  1671026   \n",
       "\n",
       "        17       18       19       20  \n",
       "0  1664845  1676199  1676196  1607974  \n",
       "1  1664845  1676199  1676196  1607974  \n",
       "2  1664845  1676199  1676196  1607974  \n",
       "3  1664845  1676199  1676196  1607974  \n",
       "4  1664845  1676199  1676196  1607974  \n",
       "\n",
       "[5 rows x 21 columns]"
      ]
     },
     "execution_count": 69,
     "metadata": {},
     "output_type": "execute_result"
    }
   ],
   "source": [
    "df.head()"
   ]
  },
  {
   "cell_type": "code",
   "execution_count": 70,
   "id": "861b033e-2c56-4c70-a1ab-539aac1021fa",
   "metadata": {},
   "outputs": [],
   "source": [
    "cols = [\"user_id\"]\n",
    "for i in range(20):\n",
    "    cols.append(\"item_{}\".format(i + 1))"
   ]
  },
  {
   "cell_type": "code",
   "execution_count": 71,
   "id": "ef5e5f83-de07-462b-99ed-cb3e4eef1004",
   "metadata": {},
   "outputs": [],
   "source": [
    "df.columns = cols"
   ]
  },
  {
   "cell_type": "code",
   "execution_count": 72,
   "id": "de6e78bc-619a-46fc-a766-c070a50e60ba",
   "metadata": {},
   "outputs": [
    {
     "data": {
      "text/html": [
       "<div>\n",
       "<style scoped>\n",
       "    .dataframe tbody tr th:only-of-type {\n",
       "        vertical-align: middle;\n",
       "    }\n",
       "\n",
       "    .dataframe tbody tr th {\n",
       "        vertical-align: top;\n",
       "    }\n",
       "\n",
       "    .dataframe thead th {\n",
       "        text-align: right;\n",
       "    }\n",
       "</style>\n",
       "<table border=\"1\" class=\"dataframe\">\n",
       "  <thead>\n",
       "    <tr style=\"text-align: right;\">\n",
       "      <th></th>\n",
       "      <th>user_id</th>\n",
       "      <th>item_1</th>\n",
       "      <th>item_2</th>\n",
       "      <th>item_3</th>\n",
       "      <th>item_4</th>\n",
       "      <th>item_5</th>\n",
       "      <th>item_6</th>\n",
       "      <th>item_7</th>\n",
       "      <th>item_8</th>\n",
       "      <th>item_9</th>\n",
       "      <th>...</th>\n",
       "      <th>item_11</th>\n",
       "      <th>item_12</th>\n",
       "      <th>item_13</th>\n",
       "      <th>item_14</th>\n",
       "      <th>item_15</th>\n",
       "      <th>item_16</th>\n",
       "      <th>item_17</th>\n",
       "      <th>item_18</th>\n",
       "      <th>item_19</th>\n",
       "      <th>item_20</th>\n",
       "    </tr>\n",
       "  </thead>\n",
       "  <tbody>\n",
       "    <tr>\n",
       "      <th>0</th>\n",
       "      <td>1</td>\n",
       "      <td>1664858</td>\n",
       "      <td>1604949</td>\n",
       "      <td>1604950</td>\n",
       "      <td>1604872</td>\n",
       "      <td>1610209</td>\n",
       "      <td>1610210</td>\n",
       "      <td>1674976</td>\n",
       "      <td>1674959</td>\n",
       "      <td>1674958</td>\n",
       "      <td>...</td>\n",
       "      <td>1604909</td>\n",
       "      <td>1604951</td>\n",
       "      <td>1674981</td>\n",
       "      <td>1690433</td>\n",
       "      <td>1654976</td>\n",
       "      <td>1671026</td>\n",
       "      <td>1664845</td>\n",
       "      <td>1676199</td>\n",
       "      <td>1676196</td>\n",
       "      <td>1607974</td>\n",
       "    </tr>\n",
       "    <tr>\n",
       "      <th>1</th>\n",
       "      <td>2</td>\n",
       "      <td>1664858</td>\n",
       "      <td>1604949</td>\n",
       "      <td>1604950</td>\n",
       "      <td>1604872</td>\n",
       "      <td>1610209</td>\n",
       "      <td>1610210</td>\n",
       "      <td>1674976</td>\n",
       "      <td>1674959</td>\n",
       "      <td>1674958</td>\n",
       "      <td>...</td>\n",
       "      <td>1604909</td>\n",
       "      <td>1604951</td>\n",
       "      <td>1674981</td>\n",
       "      <td>1690433</td>\n",
       "      <td>1654976</td>\n",
       "      <td>1671026</td>\n",
       "      <td>1664845</td>\n",
       "      <td>1676199</td>\n",
       "      <td>1676196</td>\n",
       "      <td>1607974</td>\n",
       "    </tr>\n",
       "  </tbody>\n",
       "</table>\n",
       "<p>2 rows × 21 columns</p>\n",
       "</div>"
      ],
      "text/plain": [
       "   user_id   item_1   item_2   item_3   item_4   item_5   item_6   item_7  \\\n",
       "0        1  1664858  1604949  1604950  1604872  1610209  1610210  1674976   \n",
       "1        2  1664858  1604949  1604950  1604872  1610209  1610210  1674976   \n",
       "\n",
       "    item_8   item_9  ...  item_11  item_12  item_13  item_14  item_15  \\\n",
       "0  1674959  1674958  ...  1604909  1604951  1674981  1690433  1654976   \n",
       "1  1674959  1674958  ...  1604909  1604951  1674981  1690433  1654976   \n",
       "\n",
       "   item_16  item_17  item_18  item_19  item_20  \n",
       "0  1671026  1664845  1676199  1676196  1607974  \n",
       "1  1671026  1664845  1676199  1676196  1607974  \n",
       "\n",
       "[2 rows x 21 columns]"
      ]
     },
     "execution_count": 72,
     "metadata": {},
     "output_type": "execute_result"
    }
   ],
   "source": [
    "df.head(2)"
   ]
  },
  {
   "cell_type": "markdown",
   "id": "ce0aa8d7-5252-4f11-bf89-97116b827892",
   "metadata": {},
   "source": [
    "## 8.3 Save the results into a file"
   ]
  },
  {
   "cell_type": "code",
   "execution_count": 73,
   "id": "de984c07-cf5a-4d4a-8086-3296838b7b05",
   "metadata": {},
   "outputs": [],
   "source": [
    "df.to_csv(\"submission.csv\", index=False)"
   ]
  },
  {
   "cell_type": "code",
   "execution_count": null,
   "id": "ac653ac2-2284-4d29-9f8e-e99878927c5e",
   "metadata": {},
   "outputs": [],
   "source": []
  }
 ],
 "metadata": {
  "kernelspec": {
   "display_name": "Python 3 (ipykernel)",
   "language": "python",
   "name": "python3"
  },
  "language_info": {
   "codemirror_mode": {
    "name": "ipython",
    "version": 3
   },
   "file_extension": ".py",
   "mimetype": "text/x-python",
   "name": "python",
   "nbconvert_exporter": "python",
   "pygments_lexer": "ipython3",
   "version": "3.11.5"
  }
 },
 "nbformat": 4,
 "nbformat_minor": 5
}
