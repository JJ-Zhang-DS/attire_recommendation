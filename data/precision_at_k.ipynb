{
 "cells": [
  {
   "cell_type": "code",
   "execution_count": 1,
   "metadata": {},
   "outputs": [],
   "source": [
    "import pandas as pd\n",
    "import json"
   ]
  },
  {
   "cell_type": "code",
   "execution_count": 2,
   "metadata": {},
   "outputs": [],
   "source": [
    "def get_truth(filename=\"ground_truth.csv\", col=\"item_ID\"):\n",
    "    df = pd.read_csv(filename)\n",
    "    res = df[col].map(json.loads).map(set)\n",
    "    res = res.to_list()\n",
    "    return res"
   ]
  },
  {
   "cell_type": "code",
   "execution_count": 3,
   "metadata": {},
   "outputs": [],
   "source": [
    "def get_pred(filename, rm_col=\"user_id\"):\n",
    "    df = pd.read_csv(filename)\n",
    "    cols = list(df.columns)\n",
    "    cols.remove(rm_col)\n",
    "    res = df[cols].apply(set, axis=1)\n",
    "    res = res.to_list()\n",
    "    return res"
   ]
  },
  {
   "cell_type": "code",
   "execution_count": 4,
   "metadata": {},
   "outputs": [],
   "source": [
    "def precision_K(truth, pred, K=20):\n",
    "    if len(truth) != len(pred):\n",
    "        raise ValueError(\n",
    "            \"Wrong number of rows! {} rows are expected in predictions!\"\n",
    "            .format(len(truth))\n",
    "        )\n",
    "        \n",
    "    if len(pred[0]) != K:\n",
    "        raise ValueError(\n",
    "            \"Wrong number of items! {} unique items are expected in a prediction!\"\n",
    "            .format(K)\n",
    "        )\n",
    "    \n",
    "    precision_sum = 0.0\n",
    "    for i in range(len(truth)):\n",
    "        precision_sum += len(truth[i] & pred[i])\n",
    "    res = precision_sum / len(truth) / K\n",
    "    \n",
    "    return res"
   ]
  },
  {
   "cell_type": "code",
   "execution_count": 5,
   "metadata": {},
   "outputs": [],
   "source": [
    "def get_precision_K(pred_file, truth_file=\"ground_truth.csv\", K=20):\n",
    "    truth = get_truth(truth_file)\n",
    "    pred = get_pred(pred_file)\n",
    "    res = precision_K(truth, pred, K)\n",
    "    return res"
   ]
  },
  {
   "cell_type": "code",
   "execution_count": 6,
   "metadata": {},
   "outputs": [
    {
     "data": {
      "text/plain": [
       "0.004763690922730683"
      ]
     },
     "execution_count": 6,
     "metadata": {},
     "output_type": "execute_result"
    }
   ],
   "source": [
    "get_precision_K(\"baseline.csv\")"
   ]
  },
  {
   "cell_type": "code",
   "execution_count": 7,
   "metadata": {},
   "outputs": [
    {
     "data": {
      "text/plain": [
       "0.0005251312828207052"
      ]
     },
     "execution_count": 7,
     "metadata": {},
     "output_type": "execute_result"
    }
   ],
   "source": [
    "get_precision_K(\"random.csv\")"
   ]
  },
  {
   "cell_type": "code",
   "execution_count": 8,
   "metadata": {},
   "outputs": [
    {
     "data": {
      "text/plain": [
       "0.0005626406601650412"
      ]
     },
     "execution_count": 8,
     "metadata": {},
     "output_type": "execute_result"
    }
   ],
   "source": [
    "get_precision_K(\"submission.csv\")"
   ]
  },
  {
   "cell_type": "code",
   "execution_count": null,
   "metadata": {},
   "outputs": [],
   "source": []
  }
 ],
 "metadata": {
  "kernelspec": {
   "display_name": "Python 3 (ipykernel)",
   "language": "python",
   "name": "python3"
  },
  "language_info": {
   "codemirror_mode": {
    "name": "ipython",
    "version": 3
   },
   "file_extension": ".py",
   "mimetype": "text/x-python",
   "name": "python",
   "nbconvert_exporter": "python",
   "pygments_lexer": "ipython3",
   "version": "3.11.7"
  }
 },
 "nbformat": 4,
 "nbformat_minor": 4
}
